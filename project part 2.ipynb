{
 "cells": [
  {
   "cell_type": "markdown",
   "metadata": {},
   "source": [
    "# **Final Project part 2**"
   ]
  },
  {
   "cell_type": "markdown",
   "metadata": {},
   "source": [
    "_Q1 convert numbers - defult function_"
   ]
  },
  {
   "cell_type": "code",
   "execution_count": 1,
   "metadata": {},
   "outputs": [
    {
     "data": {
      "text/plain": [
       "'1111101000'"
      ]
     },
     "execution_count": 1,
     "metadata": {},
     "output_type": "execute_result"
    }
   ],
   "source": [
    "# demical to binary\n",
    "bin(1000)[2:]"
   ]
  },
  {
   "cell_type": "code",
   "execution_count": 2,
   "metadata": {},
   "outputs": [
    {
     "data": {
      "text/plain": [
       "'1750'"
      ]
     },
     "execution_count": 2,
     "metadata": {},
     "output_type": "execute_result"
    }
   ],
   "source": [
    "# demical to octal\n",
    "oct(1000)[2:]"
   ]
  },
  {
   "cell_type": "code",
   "execution_count": 3,
   "metadata": {},
   "outputs": [
    {
     "data": {
      "text/plain": [
       "'3e8'"
      ]
     },
     "execution_count": 3,
     "metadata": {},
     "output_type": "execute_result"
    }
   ],
   "source": [
    "# demical to hexadecimal\n",
    "hex(1000)[2:]"
   ]
  },
  {
   "cell_type": "markdown",
   "metadata": {},
   "source": [
    "### load cast Data Set"
   ]
  },
  {
   "cell_type": "code",
   "execution_count": 4,
   "metadata": {},
   "outputs": [],
   "source": [
    "import pandas as pd\n",
    "import matplotlib as plt"
   ]
  },
  {
   "cell_type": "code",
   "execution_count": 5,
   "metadata": {},
   "outputs": [
    {
     "data": {
      "text/html": [
       "<div>\n",
       "<style scoped>\n",
       "    .dataframe tbody tr th:only-of-type {\n",
       "        vertical-align: middle;\n",
       "    }\n",
       "\n",
       "    .dataframe tbody tr th {\n",
       "        vertical-align: top;\n",
       "    }\n",
       "\n",
       "    .dataframe thead th {\n",
       "        text-align: right;\n",
       "    }\n",
       "</style>\n",
       "<table border=\"1\" class=\"dataframe\">\n",
       "  <thead>\n",
       "    <tr style=\"text-align: right;\">\n",
       "      <th></th>\n",
       "      <th>title</th>\n",
       "      <th>year</th>\n",
       "      <th>name</th>\n",
       "      <th>type</th>\n",
       "      <th>character</th>\n",
       "      <th>n</th>\n",
       "    </tr>\n",
       "  </thead>\n",
       "  <tbody>\n",
       "    <tr>\n",
       "      <th>0</th>\n",
       "      <td>Suuri illusioni</td>\n",
       "      <td>1985</td>\n",
       "      <td>Homo $</td>\n",
       "      <td>actor</td>\n",
       "      <td>Guests</td>\n",
       "      <td>22.0</td>\n",
       "    </tr>\n",
       "    <tr>\n",
       "      <th>1</th>\n",
       "      <td>Gangsta Rap: The Glockumentary</td>\n",
       "      <td>2007</td>\n",
       "      <td>Too $hort</td>\n",
       "      <td>actor</td>\n",
       "      <td>Himself</td>\n",
       "      <td>NaN</td>\n",
       "    </tr>\n",
       "    <tr>\n",
       "      <th>2</th>\n",
       "      <td>Menace II Society</td>\n",
       "      <td>1993</td>\n",
       "      <td>Too $hort</td>\n",
       "      <td>actor</td>\n",
       "      <td>Lew-Loc</td>\n",
       "      <td>27.0</td>\n",
       "    </tr>\n",
       "    <tr>\n",
       "      <th>3</th>\n",
       "      <td>Porndogs: The Adventures of Sadie</td>\n",
       "      <td>2009</td>\n",
       "      <td>Too $hort</td>\n",
       "      <td>actor</td>\n",
       "      <td>Bosco</td>\n",
       "      <td>3.0</td>\n",
       "    </tr>\n",
       "    <tr>\n",
       "      <th>4</th>\n",
       "      <td>Stop Pepper Palmer</td>\n",
       "      <td>2014</td>\n",
       "      <td>Too $hort</td>\n",
       "      <td>actor</td>\n",
       "      <td>Himself</td>\n",
       "      <td>NaN</td>\n",
       "    </tr>\n",
       "  </tbody>\n",
       "</table>\n",
       "</div>"
      ],
      "text/plain": [
       "                               title  year       name   type character     n\n",
       "0                    Suuri illusioni  1985     Homo $  actor    Guests  22.0\n",
       "1     Gangsta Rap: The Glockumentary  2007  Too $hort  actor   Himself   NaN\n",
       "2                  Menace II Society  1993  Too $hort  actor   Lew-Loc  27.0\n",
       "3  Porndogs: The Adventures of Sadie  2009  Too $hort  actor     Bosco   3.0\n",
       "4                 Stop Pepper Palmer  2014  Too $hort  actor   Himself   NaN"
      ]
     },
     "execution_count": 5,
     "metadata": {},
     "output_type": "execute_result"
    }
   ],
   "source": [
    "cast = pd.read_csv(r'C:\\Users\\tavor\\Desktop\\pyton\\cast.csv', index_col=None)\n",
    "cast.head()"
   ]
  },
  {
   "cell_type": "markdown",
   "metadata": {},
   "source": [
    "_Question number 1:_"
   ]
  },
  {
   "cell_type": "code",
   "execution_count": 6,
   "metadata": {},
   "outputs": [
    {
     "name": "stdout",
     "output_type": "stream",
     "text": [
      "There are 17 'Hamlet' movies\n"
     ]
    }
   ],
   "source": [
    "# groupby title\n",
    "titles = cast.groupby(\"title\")\n",
    "# get hamlet\n",
    "hamlet = titles.get_group('Hamlet')\n",
    "\n",
    "# stay 1 row per movie\n",
    "small_ham = hamlet.drop_duplicates('year')\n",
    "\n",
    "print(\"There are \" + str(small_ham.shape[0]) + \" 'Hamlet' movies\")\n"
   ]
  },
  {
   "cell_type": "markdown",
   "metadata": {},
   "source": [
    "_Question number 2:_"
   ]
  },
  {
   "cell_type": "code",
   "execution_count": 7,
   "metadata": {},
   "outputs": [
    {
     "data": {
      "text/html": [
       "<div>\n",
       "<style scoped>\n",
       "    .dataframe tbody tr th:only-of-type {\n",
       "        vertical-align: middle;\n",
       "    }\n",
       "\n",
       "    .dataframe tbody tr th {\n",
       "        vertical-align: top;\n",
       "    }\n",
       "\n",
       "    .dataframe thead th {\n",
       "        text-align: right;\n",
       "    }\n",
       "</style>\n",
       "<table border=\"1\" class=\"dataframe\">\n",
       "  <thead>\n",
       "    <tr style=\"text-align: right;\">\n",
       "      <th></th>\n",
       "      <th>year</th>\n",
       "      <th>title</th>\n",
       "    </tr>\n",
       "  </thead>\n",
       "  <tbody>\n",
       "    <tr>\n",
       "      <th>1312766</th>\n",
       "      <td>1918</td>\n",
       "      <td>Treasure Island</td>\n",
       "    </tr>\n",
       "    <tr>\n",
       "      <th>1404517</th>\n",
       "      <td>1920</td>\n",
       "      <td>Treasure Island</td>\n",
       "    </tr>\n",
       "    <tr>\n",
       "      <th>926924</th>\n",
       "      <td>1934</td>\n",
       "      <td>Treasure Island</td>\n",
       "    </tr>\n",
       "    <tr>\n",
       "      <th>1979467</th>\n",
       "      <td>1950</td>\n",
       "      <td>Treasure Island</td>\n",
       "    </tr>\n",
       "    <tr>\n",
       "      <th>961365</th>\n",
       "      <td>1972</td>\n",
       "      <td>Treasure Island</td>\n",
       "    </tr>\n",
       "    <tr>\n",
       "      <th>1954811</th>\n",
       "      <td>1973</td>\n",
       "      <td>Treasure Island</td>\n",
       "    </tr>\n",
       "    <tr>\n",
       "      <th>1137587</th>\n",
       "      <td>1985</td>\n",
       "      <td>Treasure Island</td>\n",
       "    </tr>\n",
       "    <tr>\n",
       "      <th>104905</th>\n",
       "      <td>1999</td>\n",
       "      <td>Treasure Island</td>\n",
       "    </tr>\n",
       "  </tbody>\n",
       "</table>\n",
       "</div>"
      ],
      "text/plain": [
       "         year            title\n",
       "1312766  1918  Treasure Island\n",
       "1404517  1920  Treasure Island\n",
       "926924   1934  Treasure Island\n",
       "1979467  1950  Treasure Island\n",
       "961365   1972  Treasure Island\n",
       "1954811  1973  Treasure Island\n",
       "1137587  1985  Treasure Island\n",
       "104905   1999  Treasure Island"
      ]
     },
     "execution_count": 7,
     "metadata": {},
     "output_type": "execute_result"
    }
   ],
   "source": [
    "# get treasure_island\n",
    "treasure_island = titles.get_group('Treasure Island')\n",
    "# small DataFrame with year and title columns\n",
    "treasure_island_small = treasure_island[['year', 'title']]\n",
    "\n",
    "# sort the data and drop the duplicates values\n",
    "treasure_island_small.sort_values(by='year').drop_duplicates('year')"
   ]
  },
  {
   "cell_type": "markdown",
   "metadata": {},
   "source": [
    "_Question number 3:_"
   ]
  },
  {
   "cell_type": "code",
   "execution_count": 8,
   "metadata": {},
   "outputs": [
    {
     "name": "stdout",
     "output_type": "stream",
     "text": [
      "There are 9 rolls that credicted\n"
     ]
    }
   ],
   "source": [
    "# use groupby to get data on the movie hamlet in his silent version from 1921\n",
    "Hamlet_year = hamlet.groupby('year')\n",
    "silentHamlet1921 = Hamlet_year.get_group(1921)\n",
    "\n",
    "print(\"There are \" + str(silentHamlet1921.shape[0]) + \" rolls that credicted\")"
   ]
  },
  {
   "cell_type": "markdown",
   "metadata": {},
   "source": [
    "_Question number 4:_"
   ]
  },
  {
   "cell_type": "code",
   "execution_count": 9,
   "metadata": {},
   "outputs": [
    {
     "data": {
      "image/png": "[encoded data removed]",
      "text/plain": [
       "<Figure size 432x288 with 1 Axes>"
      ]
     },
     "metadata": {
      "needs_background": "light"
     },
     "output_type": "display_data"
    }
   ],
   "source": [
    "# hamlet from Q1\n",
    "decede = cast.groupby(hamlet.year // 10 * 10).size().plot(kind='bar')  \n"
   ]
  },
  {
   "cell_type": "markdown",
   "metadata": {},
   "source": [
    "_Question number 5:_"
   ]
  },
  {
   "cell_type": "code",
   "execution_count": 10,
   "metadata": {},
   "outputs": [
    {
     "name": "stdout",
     "output_type": "stream",
     "text": [
      "In 1950 there are 604 available rolls for actors and 271 available rolls for actress\n",
      "In 1951 there are 633 available rolls for actors and 272 available rolls for actress\n",
      "In 1952 there are 591 available rolls for actors and 284 available rolls for actress\n",
      "In 1953 there are 634 available rolls for actors and 290 available rolls for actress\n",
      "In 1954 there are 626 available rolls for actors and 298 available rolls for actress\n",
      "In 1955 there are 606 available rolls for actors and 264 available rolls for actress\n",
      "In 1956 there are 614 available rolls for actors and 288 available rolls for actress\n",
      "In 1957 there are 708 available rolls for actors and 284 available rolls for actress\n",
      "In 1958 there are 694 available rolls for actors and 275 available rolls for actress\n",
      "In 1959 there are 678 available rolls for actors and 287 available rolls for actress\n"
     ]
    }
   ],
   "source": [
    "# loop to find the number of actor and actress that have main roll\n",
    "for i in range(10):\n",
    "    year_i = 1950 + i\n",
    "    n1 = cast.loc[cast.n ==1]\n",
    "    year = n1.loc[cast.year == year_i]\n",
    "    actor = len(year.loc[cast.type == \"actor\"])\n",
    "    actress = len(year.loc[cast.type == \"actress\"])\n",
    "    print(\"In \" + str(year_i) + \" there are \" + str(actor) + \" available rolls for actors and \" + str(actress) +\" available rolls for actress\")"
   ]
  },
  {
   "cell_type": "markdown",
   "metadata": {},
   "source": [
    "_Question number 6:_"
   ]
  },
  {
   "cell_type": "code",
   "execution_count": 12,
   "metadata": {},
   "outputs": [
    {
     "data": {
      "text/plain": [
       "name\n",
       "Mohanlal              126\n",
       "Mammootty             118\n",
       "Akshay Kumar           87\n",
       "Jayaram                76\n",
       "Andy Lau               72\n",
       "Ajay Devgn             69\n",
       "Eric Roberts           68\n",
       "Amitabh Bachchan       68\n",
       "Nagarjuna Akkineni     60\n",
       "Dilip                  59\n",
       "dtype: int64"
      ]
     },
     "execution_count": 12,
     "metadata": {},
     "output_type": "execute_result"
    }
   ],
   "source": [
    "# DataFrame for n=1 and years since 1990\n",
    "n = cast.loc[(cast['n'] == 1) & (cast['year'] >= 1990)]\n",
    "\n",
    "# use groupby for name - each name and the numbers ot time he has n=1 since 1990 \n",
    "most_n = n.groupby('name').size().sort_values(ascending=False)\n",
    "# show 10 name wuth the most time n=1\n",
    "most_n.iloc[:10]"
   ]
  },
  {
   "cell_type": "markdown",
   "metadata": {},
   "source": [
    "_Question number 7:_"
   ]
  },
  {
   "cell_type": "code",
   "execution_count": 13,
   "metadata": {},
   "outputs": [
    {
     "data": {
      "text/plain": [
       "year  title                                   \n",
       "1981  An American Werewolf in London              2\n",
       "1982  The Dark Crystal                            2\n",
       "1985  Sesame Street Presents: Follow that Bird    3\n",
       "1999  The Adventures of Elmo in Grouchland        3\n",
       "1996  Muppet Treasure Island                      4\n",
       "1999  Muppets from Space                          4\n",
       "1981  The Great Muppet Caper                      6\n",
       "1984  The Muppets Take Manhattan                  7\n",
       "1992  The Muppet Christmas Carol                  7\n",
       "1979  The Muppet Movie                            8\n",
       "dtype: int64"
      ]
     },
     "execution_count": 13,
     "metadata": {},
     "output_type": "execute_result"
    }
   ],
   "source": [
    "# create Frank Oz's DataFrame\n",
    "frank_oz = cast.groupby(\"name\").get_group('Frank Oz')\n",
    "\n",
    "# use groupby function for year and title \n",
    "frank_oz1 = frank_oz.groupby([\"year\", \"title\"]).size()\n",
    "\n",
    "# sort the moveis that Oz did more than 1 role\n",
    "frank_oz1[frank_oz1 > 1].sort_values()"
   ]
  }
 ],
 "metadata": {
  "kernelspec": {
   "display_name": "Python 3",
   "language": "python",
   "name": "python3"
  },
  "language_info": {
   "codemirror_mode": {
    "name": "ipython",
    "version": 3
   },
   "file_extension": ".py",
   "mimetype": "text/x-python",
   "name": "python",
   "nbconvert_exporter": "python",
   "pygments_lexer": "ipython3",
   "version": "3.8.3"
  }
 },
 "nbformat": 4,
 "nbformat_minor": 4
}
